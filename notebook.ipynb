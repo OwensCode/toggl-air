{
 "nbformat": 4,
 "nbformat_minor": 2,
 "metadata": {
  "language_info": {
   "name": "python",
   "codemirror_mode": {
    "name": "ipython",
    "version": 3
   },
   "version": "3.7.6-final"
  },
  "orig_nbformat": 2,
  "file_extension": ".py",
  "mimetype": "text/x-python",
  "name": "python",
  "npconvert_exporter": "python",
  "pygments_lexer": "ipython3",
  "version": 3,
  "kernelspec": {
   "name": "python37664bittogglairpipenvc5debada9a6d42e6a160d94c1bcae61e",
   "display_name": "Python 3.7.6 64-bit ('toggl-air': pipenv)"
  }
 },
 "cells": [
  {
   "cell_type": "code",
   "execution_count": 24,
   "metadata": {},
   "outputs": [],
   "source": [
    "import requests\n",
    "import pandas as pd\n",
    "\n",
    "from dotenv import load_dotenv\n",
    "\n",
    "from config import Config\n",
    "from duration_rounder import DurationRounder\n",
    "from errors import RequestError\n",
    "from report import REPORT_DETAIL_URL, get_request_params, get_auth, create_datarow\n",
    "\n",
    "load_dotenv(verbose=False)\n",
    "\n",
    "config = Config('configs/bounteous.json')\n",
    "\n",
    "response = requests.get(REPORT_DETAIL_URL, params=get_request_params(), auth=get_auth())\n",
    "\n",
    "if not response.ok:\n",
    "    raise RequestError.create(response)"
   ]
  },
  {
   "cell_type": "code",
   "execution_count": 25,
   "metadata": {},
   "outputs": [],
   "source": [
    "data = response.json()['data']\n",
    "rows = [create_datarow(item, config) for item in data]\n",
    "dataframe = pd.DataFrame(rows, columns=['date', 'client', 'project', 'task', 'duration'])"
   ]
  },
  {
   "cell_type": "code",
   "execution_count": 26,
   "metadata": {},
   "outputs": [
    {
     "data": {
      "text/plain": "date                 object\nclient               object\nproject              object\ntask                 object\nduration    timedelta64[ns]\ndtype: object"
     },
     "execution_count": 26,
     "metadata": {},
     "output_type": "execute_result"
    }
   ],
   "source": [
    "dataframe.dtypes"
   ]
  },
  {
   "cell_type": "code",
   "execution_count": 27,
   "metadata": {},
   "outputs": [
    {
     "data": {
      "text/html": "<div>\n<style scoped>\n    .dataframe tbody tr th:only-of-type {\n        vertical-align: middle;\n    }\n\n    .dataframe tbody tr th {\n        vertical-align: top;\n    }\n\n    .dataframe thead th {\n        text-align: right;\n    }\n</style>\n<table border=\"1\" class=\"dataframe\">\n  <thead>\n    <tr style=\"text-align: right;\">\n      <th></th>\n      <th></th>\n      <th></th>\n      <th></th>\n      <th>duration</th>\n    </tr>\n    <tr>\n      <th>date</th>\n      <th>client</th>\n      <th>project</th>\n      <th>task</th>\n      <th></th>\n    </tr>\n  </thead>\n  <tbody>\n    <tr>\n      <th rowspan=\"3\" valign=\"top\">2020-02-24</th>\n      <th>Bounteous</th>\n      <th></th>\n      <th>Document Scala interview questions</th>\n      <td>01:02:01</td>\n    </tr>\n    <tr>\n      <th rowspan=\"2\" valign=\"top\">RN</th>\n      <th rowspan=\"2\" valign=\"top\"></th>\n      <th>CI-248: Sync AMEX MID data from AS400 into Midway</th>\n      <td>00:10:13</td>\n    </tr>\n    <tr>\n      <th>DR-297: Create Amex DFF app to receive auth transactions</th>\n      <td>05:01:45</td>\n    </tr>\n    <tr>\n      <th rowspan=\"4\" valign=\"top\">2020-02-25</th>\n      <th rowspan=\"4\" valign=\"top\">RN</th>\n      <th rowspan=\"4\" valign=\"top\"></th>\n      <th>CI-248: Sync AMEX MID data from AS400 into Midway</th>\n      <td>02:38:55</td>\n    </tr>\n    <tr>\n      <th>Card Team Standup</th>\n      <td>00:12:41</td>\n    </tr>\n    <tr>\n      <th>DR-297: Create Amex DFF app to receive auth transactions</th>\n      <td>04:22:58</td>\n    </tr>\n    <tr>\n      <th>Fedex Peter's Macbook to RN</th>\n      <td>00:57:41</td>\n    </tr>\n    <tr>\n      <th rowspan=\"6\" valign=\"top\">2020-02-26</th>\n      <th rowspan=\"6\" valign=\"top\">RN</th>\n      <th rowspan=\"6\" valign=\"top\"></th>\n      <th>CI-297: Staging MasterCard Merchant File Reader should point to dev Midway</th>\n      <td>00:48:21</td>\n    </tr>\n    <tr>\n      <th>CI-298: Staging Visa Proxy should point to dev Midway</th>\n      <td>01:03:13</td>\n    </tr>\n    <tr>\n      <th>CI-553: Test connection between visa-proxy staging and midway AWS dev</th>\n      <td>00:10:08</td>\n    </tr>\n    <tr>\n      <th>CI-579: AMEX MID Sync adds non AMEX mids</th>\n      <td>03:12:31</td>\n    </tr>\n    <tr>\n      <th>Card Team Standup</th>\n      <td>00:23:23</td>\n    </tr>\n    <tr>\n      <th>DR-297: Create Amex DFF app to receive auth transactions</th>\n      <td>01:19:12</td>\n    </tr>\n    <tr>\n      <th rowspan=\"4\" valign=\"top\">2020-02-27</th>\n      <th rowspan=\"4\" valign=\"top\">RN</th>\n      <th rowspan=\"4\" valign=\"top\"></th>\n      <th>Amex/Rewards Network Weekly</th>\n      <td>00:30:52</td>\n    </tr>\n    <tr>\n      <th>CI-295: Add way for midway to import (overwrite) it's database</th>\n      <td>05:57:16</td>\n    </tr>\n    <tr>\n      <th>Card Team Standup</th>\n      <td>00:17:52</td>\n    </tr>\n    <tr>\n      <th>Review MasterCard proxy with team</th>\n      <td>01:04:57</td>\n    </tr>\n    <tr>\n      <th rowspan=\"3\" valign=\"top\">2020-02-28</th>\n      <th rowspan=\"3\" valign=\"top\">RN</th>\n      <th rowspan=\"3\" valign=\"top\"></th>\n      <th>CI-295: Add way for midway to import (overwrite) it's database</th>\n      <td>03:43:53</td>\n    </tr>\n    <tr>\n      <th>Card Team Standup</th>\n      <td>00:29:39</td>\n    </tr>\n    <tr>\n      <th>Review MasterCard DFF with team</th>\n      <td>00:42:07</td>\n    </tr>\n  </tbody>\n</table>\n</div>",
      "text/plain": "                                                                                duration\ndate       client    project task                                                       \n2020-02-24 Bounteous         Document Scala interview questions                 01:02:01\n           RN                CI-248: Sync AMEX MID data from AS400 into Midway  00:10:13\n                             DR-297: Create Amex DFF app to receive auth tra... 05:01:45\n2020-02-25 RN                CI-248: Sync AMEX MID data from AS400 into Midway  02:38:55\n                             Card Team Standup                                  00:12:41\n                             DR-297: Create Amex DFF app to receive auth tra... 04:22:58\n                             Fedex Peter's Macbook to RN                        00:57:41\n2020-02-26 RN                CI-297: Staging MasterCard Merchant File Reader... 00:48:21\n                             CI-298: Staging Visa Proxy should point to dev ... 01:03:13\n                             CI-553: Test connection between visa-proxy stag... 00:10:08\n                             CI-579: AMEX MID Sync adds non AMEX mids           03:12:31\n                             Card Team Standup                                  00:23:23\n                             DR-297: Create Amex DFF app to receive auth tra... 01:19:12\n2020-02-27 RN                Amex/Rewards Network Weekly                        00:30:52\n                             CI-295: Add way for midway to import (overwrite... 05:57:16\n                             Card Team Standup                                  00:17:52\n                             Review MasterCard proxy with team                  01:04:57\n2020-02-28 RN                CI-295: Add way for midway to import (overwrite... 03:43:53\n                             Card Team Standup                                  00:29:39\n                             Review MasterCard DFF with team                    00:42:07"
     },
     "execution_count": 27,
     "metadata": {},
     "output_type": "execute_result"
    }
   ],
   "source": [
    "dataframe.groupby(['date', 'client', 'project', 'task']).sum()"
   ]
  },
  {
   "cell_type": "code",
   "execution_count": 28,
   "metadata": {},
   "outputs": [
    {
     "data": {
      "text/plain": "duration    timedelta64[ns]\ndtype: object"
     },
     "execution_count": 28,
     "metadata": {},
     "output_type": "execute_result"
    }
   ],
   "source": [
    "dataframe.groupby(['date', 'client', 'project', 'task']).sum().dtypes"
   ]
  },
  {
   "cell_type": "code",
   "execution_count": null,
   "metadata": {},
   "outputs": [],
   "source": []
  }
 ]
}