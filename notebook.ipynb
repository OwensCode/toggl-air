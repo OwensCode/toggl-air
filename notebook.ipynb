{
 "nbformat": 4,
 "nbformat_minor": 2,
 "metadata": {
  "language_info": {
   "name": "python",
   "codemirror_mode": {
    "name": "ipython",
    "version": 3
   },
   "version": "3.7.6-final"
  },
  "orig_nbformat": 2,
  "file_extension": ".py",
  "mimetype": "text/x-python",
  "name": "python",
  "npconvert_exporter": "python",
  "pygments_lexer": "ipython3",
  "version": 3,
  "kernelspec": {
   "name": "python37664bittogglairpipenvc5debada9a6d42e6a160d94c1bcae61e",
   "display_name": "Python 3.7.6 64-bit ('toggl-air': pipenv)"
  }
 },
 "cells": [
  {
   "cell_type": "code",
   "execution_count": 2,
   "metadata": {},
   "outputs": [],
   "source": [
    "import requests\n",
    "import pandas as pd\n",
    "\n",
    "from dotenv import load_dotenv\n",
    "\n",
    "from config import Config\n",
    "from duration_rounder import DurationRounder\n",
    "from errors import RequestError\n",
    "from report import REPORT_DETAIL_URL, get_request_params, get_auth, create_datarow\n",
    "\n",
    "load_dotenv(verbose=False)\n",
    "\n",
    "config = Config('configs/bounteous.json')\n",
    "\n",
    "response = requests.get(REPORT_DETAIL_URL, params=get_request_params(), auth=get_auth())\n",
    "\n",
    "if not response.ok:\n",
    "    raise RequestError.create(response)"
   ]
  },
  {
   "cell_type": "code",
   "execution_count": 3,
   "metadata": {},
   "outputs": [],
   "source": [
    "data = response.json()['data']\n",
    "rows = [create_datarow(item, config) for item in data]\n",
    "dataframe = pd.DataFrame(rows, columns=['date', 'client', 'project', 'task', 'duration'])"
   ]
  },
  {
   "cell_type": "code",
   "execution_count": 4,
   "metadata": {},
   "outputs": [
    {
     "data": {
      "text/plain": "date                 object\nclient               object\nproject              object\ntask                 object\nduration    timedelta64[ns]\ndtype: object"
     },
     "execution_count": 4,
     "metadata": {},
     "output_type": "execute_result"
    }
   ],
   "source": [
    "dataframe.dtypes"
   ]
  },
  {
   "cell_type": "code",
   "execution_count": 5,
   "metadata": {},
   "outputs": [
    {
     "data": {
      "text/html": "<div>\n<style scoped>\n    .dataframe tbody tr th:only-of-type {\n        vertical-align: middle;\n    }\n\n    .dataframe tbody tr th {\n        vertical-align: top;\n    }\n\n    .dataframe thead th {\n        text-align: right;\n    }\n</style>\n<table border=\"1\" class=\"dataframe\">\n  <thead>\n    <tr style=\"text-align: right;\">\n      <th></th>\n      <th>date</th>\n      <th>client</th>\n      <th>project</th>\n      <th>task</th>\n      <th>duration</th>\n    </tr>\n  </thead>\n  <tbody>\n    <tr>\n      <th>0</th>\n      <td>2020-03-02</td>\n      <td>RN</td>\n      <td></td>\n      <td>CI-295: Add way for midway to import (overwrit...</td>\n      <td>07:52:27</td>\n    </tr>\n    <tr>\n      <th>1</th>\n      <td>2020-03-02</td>\n      <td>RN</td>\n      <td></td>\n      <td>Card Team Standup</td>\n      <td>00:06:10</td>\n    </tr>\n    <tr>\n      <th>2</th>\n      <td>2020-03-03</td>\n      <td>Bounteous</td>\n      <td>Administration</td>\n      <td>Developer Portal interview with UX</td>\n      <td>00:42:18</td>\n    </tr>\n    <tr>\n      <th>3</th>\n      <td>2020-03-03</td>\n      <td>RN</td>\n      <td></td>\n      <td>Amex mids sync review with team</td>\n      <td>00:18:12</td>\n    </tr>\n    <tr>\n      <th>4</th>\n      <td>2020-03-03</td>\n      <td>RN</td>\n      <td></td>\n      <td>CI-295: Add way for midway to import (overwrit...</td>\n      <td>04:50:01</td>\n    </tr>\n    <tr>\n      <th>5</th>\n      <td>2020-03-03</td>\n      <td>RN</td>\n      <td></td>\n      <td>Card Team Standup</td>\n      <td>00:08:25</td>\n    </tr>\n    <tr>\n      <th>6</th>\n      <td>2020-03-03</td>\n      <td>SS</td>\n      <td></td>\n      <td>Review project documentation</td>\n      <td>02:04:10</td>\n    </tr>\n    <tr>\n      <th>7</th>\n      <td>2020-03-04</td>\n      <td>RN</td>\n      <td></td>\n      <td>Card Team Standup</td>\n      <td>00:12:50</td>\n    </tr>\n    <tr>\n      <th>8</th>\n      <td>2020-03-04</td>\n      <td>RN</td>\n      <td></td>\n      <td>Code review changes</td>\n      <td>00:43:13</td>\n    </tr>\n    <tr>\n      <th>9</th>\n      <td>2020-03-04</td>\n      <td>RN</td>\n      <td></td>\n      <td>Investigate signature errors on MasterCard Proxy</td>\n      <td>01:23:00</td>\n    </tr>\n    <tr>\n      <th>10</th>\n      <td>2020-03-04</td>\n      <td>RN</td>\n      <td></td>\n      <td>Testing MasterCard refresh/response file proce...</td>\n      <td>03:20:09</td>\n    </tr>\n    <tr>\n      <th>11</th>\n      <td>2020-03-04</td>\n      <td>SS</td>\n      <td></td>\n      <td>Review project documentation</td>\n      <td>02:10:33</td>\n    </tr>\n    <tr>\n      <th>12</th>\n      <td>2020-03-05</td>\n      <td>RN</td>\n      <td></td>\n      <td>Card Team Standup</td>\n      <td>00:20:26</td>\n    </tr>\n    <tr>\n      <th>13</th>\n      <td>2020-03-05</td>\n      <td>RN</td>\n      <td></td>\n      <td>Review amex-mids-sync with team</td>\n      <td>01:11:21</td>\n    </tr>\n    <tr>\n      <th>14</th>\n      <td>2020-03-05</td>\n      <td>RN</td>\n      <td></td>\n      <td>Testing MasterCard refresh/response file proce...</td>\n      <td>04:24:12</td>\n    </tr>\n    <tr>\n      <th>15</th>\n      <td>2020-03-05</td>\n      <td>SS</td>\n      <td></td>\n      <td>Review project documentation</td>\n      <td>02:16:32</td>\n    </tr>\n    <tr>\n      <th>16</th>\n      <td>2020-03-06</td>\n      <td>Bounteous</td>\n      <td>Administration</td>\n      <td>Record time in OpenAir</td>\n      <td>00:18:24</td>\n    </tr>\n    <tr>\n      <th>17</th>\n      <td>2020-03-06</td>\n      <td>Bounteous</td>\n      <td>Mentoring</td>\n      <td>One-on-one with Jennine</td>\n      <td>00:36:14</td>\n    </tr>\n    <tr>\n      <th>18</th>\n      <td>2020-03-06</td>\n      <td>RN</td>\n      <td></td>\n      <td>Card Team Standup</td>\n      <td>00:21:51</td>\n    </tr>\n    <tr>\n      <th>19</th>\n      <td>2020-03-06</td>\n      <td>RN</td>\n      <td></td>\n      <td>Code review changes</td>\n      <td>00:32:45</td>\n    </tr>\n    <tr>\n      <th>20</th>\n      <td>2020-03-06</td>\n      <td>RN</td>\n      <td></td>\n      <td>Improvements to amex-mids-sync</td>\n      <td>04:29:45</td>\n    </tr>\n    <tr>\n      <th>21</th>\n      <td>2020-03-06</td>\n      <td>SS</td>\n      <td></td>\n      <td>Review project documentation</td>\n      <td>01:57:44</td>\n    </tr>\n  </tbody>\n</table>\n</div>",
      "text/plain": "          date     client         project  \\\n0   2020-03-02         RN                   \n1   2020-03-02         RN                   \n2   2020-03-03  Bounteous  Administration   \n3   2020-03-03         RN                   \n4   2020-03-03         RN                   \n5   2020-03-03         RN                   \n6   2020-03-03         SS                   \n7   2020-03-04         RN                   \n8   2020-03-04         RN                   \n9   2020-03-04         RN                   \n10  2020-03-04         RN                   \n11  2020-03-04         SS                   \n12  2020-03-05         RN                   \n13  2020-03-05         RN                   \n14  2020-03-05         RN                   \n15  2020-03-05         SS                   \n16  2020-03-06  Bounteous  Administration   \n17  2020-03-06  Bounteous       Mentoring   \n18  2020-03-06         RN                   \n19  2020-03-06         RN                   \n20  2020-03-06         RN                   \n21  2020-03-06         SS                   \n\n                                                 task duration  \n0   CI-295: Add way for midway to import (overwrit... 07:52:27  \n1                                   Card Team Standup 00:06:10  \n2                  Developer Portal interview with UX 00:42:18  \n3                     Amex mids sync review with team 00:18:12  \n4   CI-295: Add way for midway to import (overwrit... 04:50:01  \n5                                   Card Team Standup 00:08:25  \n6                        Review project documentation 02:04:10  \n7                                   Card Team Standup 00:12:50  \n8                                 Code review changes 00:43:13  \n9    Investigate signature errors on MasterCard Proxy 01:23:00  \n10  Testing MasterCard refresh/response file proce... 03:20:09  \n11                       Review project documentation 02:10:33  \n12                                  Card Team Standup 00:20:26  \n13                    Review amex-mids-sync with team 01:11:21  \n14  Testing MasterCard refresh/response file proce... 04:24:12  \n15                       Review project documentation 02:16:32  \n16                             Record time in OpenAir 00:18:24  \n17                            One-on-one with Jennine 00:36:14  \n18                                  Card Team Standup 00:21:51  \n19                                Code review changes 00:32:45  \n20                     Improvements to amex-mids-sync 04:29:45  \n21                       Review project documentation 01:57:44  "
     },
     "execution_count": 5,
     "metadata": {},
     "output_type": "execute_result"
    }
   ],
   "source": [
    "dataframe.groupby(['date', 'client', 'project', 'task'], as_index=False).sum()"
   ]
  },
  {
   "cell_type": "code",
   "execution_count": 7,
   "metadata": {},
   "outputs": [
    {
     "data": {
      "text/plain": "date                 object\nclient               object\nproject              object\ntask                 object\nduration    timedelta64[ns]\ndtype: object"
     },
     "execution_count": 7,
     "metadata": {},
     "output_type": "execute_result"
    }
   ],
   "source": [
    "dataframe.groupby(['date', 'client', 'project', 'task'], as_index=False).sum().dtypes"
   ]
  },
  {
   "cell_type": "code",
   "execution_count": null,
   "metadata": {},
   "outputs": [],
   "source": []
  }
 ]
}